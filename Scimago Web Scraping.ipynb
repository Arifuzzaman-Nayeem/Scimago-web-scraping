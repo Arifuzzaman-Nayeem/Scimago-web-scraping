{
 "cells": [
  {
   "cell_type": "code",
   "execution_count": 1,
   "id": "975a0532",
   "metadata": {},
   "outputs": [],
   "source": [
    "import requests,bs4\n",
    "import pandas as pd\n",
    "import numpy as np"
   ]
  },
  {
   "cell_type": "code",
   "execution_count": 2,
   "id": "4d83749a",
   "metadata": {},
   "outputs": [],
   "source": [
    "class Scimago_Extract:\n",
    "    def __init__ (self):\n",
    "        pass\n",
    "    def _sl_name_path_find (self,tr_tag): \n",
    "        self.prefix = 'https://www.scimagojr.com/'\n",
    "        self.sl = self.tr_tag.select('td')[0].getText()\n",
    "        self.name = self.tr_tag.select('td')[1].getText()\n",
    "        self.sc_path = self.prefix + self.tr_tag.select('td[class=\"tit\"]')[0].select('a')[0].get('href')\n",
    "    def _scop_find(self,sc_path): \n",
    "        self.sc_html = requests.get(self.sc_path)\n",
    "        self.sc_soup = bs4.BeautifulSoup(self.sc_html.text)\n",
    "        self.scope = self.sc_soup.select('div[class=\"fullwidth\"]')[0].contents[2]\n",
    "        self.scope = self.scope.replace(\"\\r\",\"\")\n",
    "        self.scope = self.scope.replace(\"\\n\",\"\") \n",
    "    def data_extract_single_page(self,soup): \n",
    "        self.soup = soup\n",
    "        self.arr = []\n",
    "        for self.tr_tag in self.soup.select('tr'):\n",
    "            try:\n",
    "                self._sl_name_path_find(self.tr_tag)\n",
    "                self._scop_find(self.sc_path)\n",
    "                self.arr.append([self.sl,self.name,self.scope])\n",
    "            except IndexError as error: \n",
    "                pass\n",
    "        self.np_arr = np.array(self.arr)\n",
    "        return self.np_arr \n",
    "    def stop_key (self,soup): \n",
    "        self.key =  self.soup.select('a[class=\"\"]')[1].select('img')[0].attrs.get('title')\n",
    "        self.flag_sk = 1\n",
    "        self.n_path = \"\"\n",
    "        if self.key=='next':\n",
    "            self.n_path = self.prefix+ self.soup.select('a[class=\"\"]')[1].attrs.get('href')\n",
    "        elif self.key=='previous':\n",
    "            self.flag_sk=0\n",
    "            self.n_path = \"\"\n",
    "        return self.flag_sk,self.n_path "
   ]
  },
  {
   "cell_type": "code",
   "execution_count": 3,
   "id": "6e5fe458",
   "metadata": {
    "scrolled": false
   },
   "outputs": [],
   "source": [
    "def main (): \n",
    "    path = 'https://www.scimagojr.com/journalrank.php?category=2205&type=j'\n",
    "    csv_file_name = 'Civil Engineering Journal Scope'\n",
    "    soup = bs4.BeautifulSoup(requests.get(path).text)\n",
    "    extract = Scimago_Extract()\n",
    "    flag,count = 1,1\n",
    "    while flag == 1:\n",
    "        np_sig = extract.data_extract_single_page(soup)\n",
    "        if count==1:\n",
    "            np_cum = np_sig\n",
    "        else : \n",
    "            np_cum = np.append(np_cum,np_sig,axis=0)\n",
    "            \n",
    "        flag, path = extract.stop_key(soup)\n",
    "        if not path==\"\":  \n",
    "            soup = bs4.BeautifulSoup(requests.get(path).text)\n",
    "        count +=1\n",
    "    pd.DataFrame(np_cum, columns=['SL','Name','Scope']).to_csv(csv_file_name+'.csv',index=False)\n",
    "    print(\"Done\")"
   ]
  },
  {
   "cell_type": "code",
   "execution_count": 4,
   "id": "18f90d4b",
   "metadata": {},
   "outputs": [
    {
     "name": "stdout",
     "output_type": "stream",
     "text": [
      "Done\n"
     ]
    }
   ],
   "source": [
    "main()"
   ]
  },
  {
   "cell_type": "code",
   "execution_count": null,
   "id": "e6ec6c74",
   "metadata": {},
   "outputs": [],
   "source": []
  },
  {
   "cell_type": "code",
   "execution_count": null,
   "id": "178faa28",
   "metadata": {},
   "outputs": [],
   "source": []
  }
 ],
 "metadata": {
  "kernelspec": {
   "display_name": "Python 3 (ipykernel)",
   "language": "python",
   "name": "python3"
  },
  "language_info": {
   "codemirror_mode": {
    "name": "ipython",
    "version": 3
   },
   "file_extension": ".py",
   "mimetype": "text/x-python",
   "name": "python",
   "nbconvert_exporter": "python",
   "pygments_lexer": "ipython3",
   "version": "3.9.7"
  }
 },
 "nbformat": 4,
 "nbformat_minor": 5
}
